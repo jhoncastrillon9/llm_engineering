{
 "cells": [
  {
   "cell_type": "markdown",
   "id": "ddfa9ae6-69fe-444a-b994-8c4c5970a7ec",
   "metadata": {},
   "source": [
    "# Proyecto - Asistente de IA para aerolíneas\n",
    "\n",
    "Ahora, reuniremos lo que hemos aprendido para crear un asistente de IA para atención al cliente para una aerolínea."
   ]
  },
  {
   "cell_type": "code",
   "execution_count": 12,
   "id": "8b50bbe2-c0b1-49c3-9a5c-1ba7efa2bcb4",
   "metadata": {},
   "outputs": [],
   "source": [
    "# imports\n",
    "\n",
    "import os\n",
    "import json\n",
    "from dotenv import load_dotenv\n",
    "from openai import OpenAI\n",
    "import gradio as gr"
   ]
  },
  {
   "cell_type": "code",
   "execution_count": 13,
   "id": "747e8786-9da8-4342-b6c9-f5f69c2e22ae",
   "metadata": {},
   "outputs": [
    {
     "name": "stdout",
     "output_type": "stream",
     "text": [
      "OpenAI API Key exists and begins sk-proj-\n"
     ]
    }
   ],
   "source": [
    "# Inicialización\n",
    "\n",
    "load_dotenv()\n",
    "\n",
    "openai_api_key = os.getenv('OPENAI_API_KEY')\n",
    "if openai_api_key:\n",
    "    print(f\"OpenAI API Key exists and begins {openai_api_key[:8]}\")\n",
    "else:\n",
    "    print(\"OpenAI API Key Sin Configurar\")\n",
    "    \n",
    "MODEL = \"gpt-4o-mini\"\n",
    "openai = OpenAI()"
   ]
  },
  {
   "cell_type": "code",
   "execution_count": 14,
   "id": "0a521d84-d07c-49ab-a0df-d6451499ed97",
   "metadata": {},
   "outputs": [],
   "source": [
    "system_message = \"Eres un asistente útil para una aerolínea llamada FlightAI. \"\n",
    "system_message += \"Da respuestas breves y corteses, de no más de una oración. \"\n",
    "system_message += \"Se siempre preciso. Si no sabes la respuesta, dilo.\""
   ]
  },
  {
   "cell_type": "code",
   "execution_count": 15,
   "id": "61a2a15d-b559-4844-b377-6bd5cb4949f6",
   "metadata": {},
   "outputs": [
    {
     "name": "stdout",
     "output_type": "stream",
     "text": [
      "* Running on local URL:  http://127.0.0.1:7867\n",
      "* To create a public link, set `share=True` in `launch()`.\n"
     ]
    },
    {
     "data": {
      "text/html": [
       "<div><iframe src=\"http://127.0.0.1:7867/\" width=\"100%\" height=\"500\" allow=\"autoplay; camera; microphone; clipboard-read; clipboard-write;\" frameborder=\"0\" allowfullscreen></iframe></div>"
      ],
      "text/plain": [
       "<IPython.core.display.HTML object>"
      ]
     },
     "metadata": {},
     "output_type": "display_data"
    },
    {
     "data": {
      "text/plain": []
     },
     "execution_count": 15,
     "metadata": {},
     "output_type": "execute_result"
    }
   ],
   "source": [
    "# Esta función parece bastante más simple que la de mi video, porque estamos aprovechando las últimas actualizaciones de Gradio.\n",
    "\n",
    "def chat(message, history):\n",
    "    messages = [{\"role\": \"system\", \"content\": system_message}] + history + [{\"role\": \"user\", \"content\": message}]\n",
    "    response = openai.chat.completions.create(model=MODEL, messages=messages)\n",
    "    return response.choices[0].message.content\n",
    "\n",
    "gr.ChatInterface(fn=chat, type=\"messages\").launch()"
   ]
  },
  {
   "cell_type": "markdown",
   "id": "36bedabf-a0a7-4985-ad8e-07ed6a55a3a4",
   "metadata": {},
   "source": [
    "## Herramientas\n",
    "\n",
    "Las herramientas son una característica increíblemente poderosa que ofrecen los LLM de vanguardia.\n",
    "\n",
    "Con las herramientas, puedes escribir una función y hacer que el LLM llame a esa función como parte de su respuesta.\n",
    "\n",
    "Suena casi espeluznante... ¿le estamos dando el poder de ejecutar código en nuestra máquina?\n",
    "\n",
    "Bueno, más o menos."
   ]
  },
  {
   "cell_type": "code",
   "execution_count": 45,
   "id": "0696acb1-0b05-4dc2-80d5-771be04f1fb2",
   "metadata": {},
   "outputs": [],
   "source": [
    "# Vamos a hacer una función útil\n",
    "\n",
    "ticket_prices = {\"londres\": \"799€\", \"parís\": \"899€\", \"tokyo\": \"1400€\", \"berlín\": \"499€\", \"medellín\": \"700€\"}\n",
    "ticket_times = {\"londres\": \"07:00\", \"parís\": \"11:00\", \"tokyo\": \"22:00\", \"berlín\": \"14:55\"}\n",
    "\n",
    "def get_ticket_price(destination_city):\n",
    "    print(f\"Se solicitó la herramienta get_ticket_price para {destination_city}\")\n",
    "    city = destination_city.lower()\n",
    "    price = ticket_prices.get(city, \"Unknown\")\n",
    "    print(f\"Se solicitó la herramienta get_ticket_price para {city} precio: {price}\")\n",
    "    return price\n",
    "\n",
    "def get_ticket_time(destination_city):\n",
    "    print(f\"Se solicitó la herramienta get_ticket_times para {destination_city}\")\n",
    "    city = destination_city.lower()\n",
    "    return ticket_times.get(city, \"Unknown\")"
   ]
  },
  {
   "cell_type": "code",
   "execution_count": 46,
   "id": "80ca4e09-6287-4d3f-997d-fa6afbcf6c85",
   "metadata": {},
   "outputs": [
    {
     "name": "stdout",
     "output_type": "stream",
     "text": [
      "Se solicitó la herramienta get_ticket_price para Berlin\n",
      "Se solicitó la herramienta get_ticket_price para berlin precio: Unknown\n",
      "Se solicitó la herramienta get_ticket_times para parís\n",
      "Se solicitó la herramienta get_ticket_times para Medellín\n"
     ]
    },
    {
     "data": {
      "text/plain": [
       "'Unknown'"
      ]
     },
     "execution_count": 46,
     "metadata": {},
     "output_type": "execute_result"
    }
   ],
   "source": [
    "get_ticket_price(\"Berlin\")\n",
    "get_ticket_time(\"parís\")\n",
    "get_ticket_time(\"Medellín\")"
   ]
  },
  {
   "cell_type": "code",
   "execution_count": 47,
   "id": "4afceded-7178-4c05-8fa6-9f2085e6a344",
   "metadata": {},
   "outputs": [],
   "source": [
    "# Hay una estructura de diccionario particular que se requiere para describir nuestra función:\n",
    "\n",
    "price_function = {\n",
    "    \"name\": \"get_ticket_price\",\n",
    "    \"description\": \"Obtén el precio de un billete de ida y vuelta a la ciudad de destino. Llámalo siempre que necesites saber el precio del billete, por ejemplo, cuando un cliente pregunte '¿Cuánto cuesta un billete a esta ciudad?'\",\n",
    "    \"parameters\": {\n",
    "        \"type\": \"object\",\n",
    "        \"properties\": {\n",
    "            \"destination_city\": {\n",
    "                \"type\": \"string\",\n",
    "                \"description\": \"La ciudad a la que se viaja\",\n",
    "            },\n",
    "        },\n",
    "        \"required\": [\"destination_city\"],\n",
    "        \"additionalProperties\": False\n",
    "    }\n",
    "}\n",
    "\n",
    "time_function = {\n",
    "    \"name\": \"get_ticket_time\",\n",
    "    \"description\": \"Obtén la hora de salida de un vuelo para una ciudad en especifico. Llámalo siempre que necesites saber el horario de salida, por ejemplo, cuando un cliente pregunte '¿a que horas sale el vuelo x, o A que hora sale el vuelo'\",\n",
    "    \"parameters\": {\n",
    "        \"type\": \"object\",\n",
    "        \"properties\": {\n",
    "            \"destination_city\": {\n",
    "                \"type\": \"string\",\n",
    "                \"description\": \"La ciudad a la que el cliente desea viajar\",\n",
    "            },\n",
    "        },\n",
    "        \"required\": [\"destination_city\"],\n",
    "        \"additionalProperties\": False\n",
    "    }\n",
    "}"
   ]
  },
  {
   "cell_type": "code",
   "execution_count": 48,
   "id": "bdca8679-935f-4e7f-97e6-e71a4d4f228c",
   "metadata": {},
   "outputs": [],
   "source": [
    "# Y esto está incluido en una lista de herramientas:\n",
    "\n",
    "tools = [{\"type\": \"function\", \"function\": price_function},\n",
    "        {\"type\": \"function\", \"function\": time_function}]"
   ]
  },
  {
   "cell_type": "markdown",
   "id": "c3d3554f-b4e3-4ce7-af6f-68faa6dd2340",
   "metadata": {},
   "source": [
    "## Cómo hacer que OpenAI use nuestra herramienta\n",
    "\n",
    "Hay algunos detalles complicados para permitir que OpenAI \"llame a nuestra herramienta\"\n",
    "\n",
    "Lo que realmente hacemos es darle al LLM la oportunidad de informarnos que quiere que ejecutemos la herramienta.\n",
    "\n",
    "Así es como se ve la nueva función de chat:"
   ]
  },
  {
   "cell_type": "code",
   "execution_count": 49,
   "id": "ce9b0744-9c78-408d-b9df-9f6fd9ed78cf",
   "metadata": {},
   "outputs": [],
   "source": [
    "def chat(message, history):\n",
    "    messages = [{\"role\": \"system\", \"content\": system_message}] + history + [{\"role\": \"user\", \"content\": message}]\n",
    "    response = openai.chat.completions.create(model=MODEL, messages=messages, tools=tools)\n",
    "\n",
    "    if response.choices[0].finish_reason==\"tool_calls\":\n",
    "        message = response.choices[0].message\n",
    "        tool_responses = handle_tool_call(message)\n",
    "        messages.append(message)\n",
    "        messages.extend(tool_responses)  # añadir todos\n",
    "        response = openai.chat.completions.create(model=MODEL, messages=messages)\n",
    "    \n",
    "    return response.choices[0].message.content"
   ]
  },
  {
   "cell_type": "code",
   "execution_count": 50,
   "id": "b0992986-ea09-4912-a076-8e5603ee631f",
   "metadata": {},
   "outputs": [],
   "source": [
    "#Tenemos que escribir esa función handle_tool_call:\n",
    "\n",
    "def handle_tool_call(message):\n",
    "    responses = []\n",
    "    for tool_call in message.tool_calls:\n",
    "        arguments = json.loads(tool_call.function.arguments)\n",
    "        city = arguments.get(\"destination_city\")\n",
    "\n",
    "        if tool_call.function.name == \"get_ticket_price\":\n",
    "            result = get_ticket_price(city)\n",
    "            responses.append({\n",
    "                \"role\": \"tool\",\n",
    "                \"content\": json.dumps({\"destination_city\": city, \"price\": result}),\n",
    "                \"tool_call_id\": tool_call.id\n",
    "            })\n",
    "\n",
    "        elif tool_call.function.name == \"get_ticket_time\":\n",
    "            result = get_ticket_time(city)\n",
    "            responses.append({\n",
    "                \"role\": \"tool\",\n",
    "                \"content\": json.dumps({\"destination_city\": city, \"time\": result}),\n",
    "                \"tool_call_id\": tool_call.id\n",
    "            })\n",
    "\n",
    "    return responses"
   ]
  },
  {
   "cell_type": "code",
   "execution_count": 51,
   "id": "f4be8a71-b19e-4c2f-80df-f59ff2661f14",
   "metadata": {},
   "outputs": [
    {
     "name": "stdout",
     "output_type": "stream",
     "text": [
      "* Running on local URL:  http://127.0.0.1:7872\n",
      "* To create a public link, set `share=True` in `launch()`.\n"
     ]
    },
    {
     "data": {
      "text/html": [
       "<div><iframe src=\"http://127.0.0.1:7872/\" width=\"100%\" height=\"500\" allow=\"autoplay; camera; microphone; clipboard-read; clipboard-write;\" frameborder=\"0\" allowfullscreen></iframe></div>"
      ],
      "text/plain": [
       "<IPython.core.display.HTML object>"
      ]
     },
     "metadata": {},
     "output_type": "display_data"
    },
    {
     "data": {
      "text/plain": []
     },
     "execution_count": 51,
     "metadata": {},
     "output_type": "execute_result"
    },
    {
     "name": "stdout",
     "output_type": "stream",
     "text": [
      "Se solicitó la herramienta get_ticket_price para Medellín\n",
      "Se solicitó la herramienta get_ticket_price para medellín precio: 700€\n",
      "Se solicitó la herramienta get_ticket_price para Medellín\n",
      "Se solicitó la herramienta get_ticket_price para medellín precio: 700€\n",
      "Se solicitó la herramienta get_ticket_times para Medellín\n"
     ]
    }
   ],
   "source": [
    "gr.ChatInterface(fn=chat, type=\"messages\").launch()"
   ]
  },
  {
   "cell_type": "code",
   "execution_count": null,
   "id": "11c9da69-d0cf-4cf2-a49e-e5669deec47b",
   "metadata": {},
   "outputs": [],
   "source": []
  },
  {
   "cell_type": "code",
   "execution_count": null,
   "id": "bf4cf884-6cae-4ab2-954a-7b8a9ced0a49",
   "metadata": {},
   "outputs": [],
   "source": []
  }
 ],
 "metadata": {
  "kernelspec": {
   "display_name": "Python 3 (ipykernel)",
   "language": "python",
   "name": "python3"
  },
  "language_info": {
   "codemirror_mode": {
    "name": "ipython",
    "version": 3
   },
   "file_extension": ".py",
   "mimetype": "text/x-python",
   "name": "python",
   "nbconvert_exporter": "python",
   "pygments_lexer": "ipython3",
   "version": "3.11.13"
  }
 },
 "nbformat": 4,
 "nbformat_minor": 5
}
