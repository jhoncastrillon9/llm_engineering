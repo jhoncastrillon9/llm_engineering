{
 "cells": [
  {
   "cell_type": "markdown",
   "id": "d15d8294-3328-4e07-ad16-8a03e9bbfdb9",
   "metadata": {},
   "source": [
    "## TRABAJANDO CON LM STUDIO\n",
    "\n",
    "Con esto podemos realizar peticiones a GTP localmente\n",
    "\n"
   ]
  },
  {
   "cell_type": "code",
   "execution_count": 1,
   "id": "4e2a9393-7767-488e-a8bf-27c12dca35bd",
   "metadata": {},
   "outputs": [],
   "source": [
    "# imports\n",
    "\n",
    "import requests\n",
    "import json\n",
    "from bs4 import BeautifulSoup\n",
    "from IPython.display import display, Markdown, update_display\n",
    "\n",
    "# Constantes\n",
    "\n",
    "LM_STUDIO_API = \"http://172.23.240.1:1234/v1/chat/completions\"\n",
    "HEADERS = {\"Content-Type\": \"application/json\"}\n",
    "MODEL = \"openai/gpt-oss-20b\""
   ]
  },
  {
   "cell_type": "code",
   "execution_count": null,
   "id": "dac0a679-599c-441f-9bf2-ddc73d35b940",
   "metadata": {},
   "outputs": [],
   "source": [
    "# Crea una lista de mensajes utilizando el mismo formato que usamos para OpenAI\n",
    "\n",
    "messages = [\n",
    "    {\"role\": \"user\", \"content\": \"Describe algunas de las aplicaciones comerciales de la IA generativa.\"}\n",
    "]\n",
    "\n",
    "payload = {\n",
    "        \"model\": MODEL,\n",
    "        \"messages\": messages,\n",
    "        \"stream\": False\n",
    "    }\n",
    "\n",
    "response = requests.post(LM_STUDIO_API, json=payload, headers=HEADERS)\n",
    "print(response.json()['choices'][0]['message']['content'])"
   ]
  },
  {
   "cell_type": "code",
   "execution_count": 7,
   "id": "42b9f644-522d-4e05-a691-56e7658c0ea9",
   "metadata": {},
   "outputs": [
    {
     "data": {
      "text/markdown": [
       "**Aplicaciones comerciales de la IA generativa**\n",
       "\n",
       "La IA generativa se ha convertido en una herramienta clave para optimizar procesos y crear experiencias únicas en diversos sectores. En el marketing digital, genera contenidos persuasivos—textos publicitarios, descripciones de productos e incluso guiones de video—personalizados a cada segmento de audiencia, reduciendo tiempos de producción y mejorando la conversión. En diseño gráfico y moda, crea bocetos, patrones y prototipos visuales que aceleran el ciclo creativo, mientras que en la industria farmacéutica ayuda a diseñar moléculas con propiedades deseadas, acelerando el descubrimiento de fármacos. Además, en el sector financiero se emplea para redactar informes analíticos y generar simulaciones de escenarios económicos, lo que facilita la toma de decisiones basada en datos. En conjunto, estas aplicaciones impulsan la eficiencia operativa, reducen costos y abren nuevas oportunidades de innovación."
      ],
      "text/plain": [
       "<IPython.core.display.Markdown object>"
      ]
     },
     "metadata": {},
     "output_type": "display_data"
    },
    {
     "name": "stdout",
     "output_type": "stream",
     "text": [
      "\n"
     ]
    }
   ],
   "source": [
    "# Crea una lista de mensajes utilizando el mismo formato que usamos para OpenAI\n",
    "\n",
    "messages = [\n",
    "    {\"role\": \"user\", \"content\": \"Describe algunas de las aplicaciones comerciales de la IA generativa. en un parrafo corto y formato markdown\"}\n",
    "]\n",
    "\n",
    "payload = {\n",
    "        \"model\": MODEL,\n",
    "        \"messages\": messages,\n",
    "        \"stream\": True\n",
    "    }\n",
    "\n",
    "acc = []  # por si quieres conservar el texto completo\n",
    "display_handle = display(Markdown(\"\"), display_id=True)\n",
    "\n",
    "with requests.post(LM_STUDIO_API, json=payload, headers=HEADERS, stream=True) as r:\n",
    "    r.raise_for_status()\n",
    "    for line in r.iter_lines():\n",
    "        if not line:  # Saltar líneas vacías\n",
    "            continue\n",
    "        if line.startswith(b\"data: \"):\n",
    "            line = line[len(b\"data: \"):]  # Quitar el prefijo\n",
    "        if line == b\"[DONE]\":\n",
    "            break\n",
    "\n",
    "        # Convertir de bytes a str y luego a dict\n",
    "        data = json.loads(line.decode(\"utf-8\"))\n",
    "\n",
    "        if data.get(\"choices\"):\n",
    "            delta = data[\"choices\"][0].get(\"delta\", {})\n",
    "            if \"content\" in delta:\n",
    "                acc.append(delta[\"content\"])                \n",
    "                update_display(Markdown(\"\".join(acc)), display_id=display_handle.display_id)\n",
    "print()\n",
    "\n",
    "\n",
    "\n"
   ]
  },
  {
   "cell_type": "code",
   "execution_count": null,
   "id": "274cacc0-8481-423f-8d75-00246f947707",
   "metadata": {},
   "outputs": [],
   "source": []
  }
 ],
 "metadata": {
  "kernelspec": {
   "display_name": "Python 3 (ipykernel)",
   "language": "python",
   "name": "python3"
  },
  "language_info": {
   "codemirror_mode": {
    "name": "ipython",
    "version": 3
   },
   "file_extension": ".py",
   "mimetype": "text/x-python",
   "name": "python",
   "nbconvert_exporter": "python",
   "pygments_lexer": "ipython3",
   "version": "3.11.13"
  }
 },
 "nbformat": 4,
 "nbformat_minor": 5
}
