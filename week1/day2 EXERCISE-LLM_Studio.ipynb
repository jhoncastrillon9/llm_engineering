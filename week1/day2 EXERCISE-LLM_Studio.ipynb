{
 "cells": [
  {
   "cell_type": "markdown",
   "id": "d15d8294-3328-4e07-ad16-8a03e9bbfdb9",
   "metadata": {},
   "source": [
    "## TRABAJANDO CON LM STUDIO\n",
    "\n",
    "Con esto podemos realizar peticiones a GTP localmente\n",
    "\n"
   ]
  },
  {
   "cell_type": "code",
   "execution_count": 1,
   "id": "4e2a9393-7767-488e-a8bf-27c12dca35bd",
   "metadata": {},
   "outputs": [],
   "source": [
    "# imports\n",
    "\n",
    "import requests\n",
    "import json\n",
    "from bs4 import BeautifulSoup\n",
    "from IPython.display import display, Markdown, update_display\n",
    "\n",
    "# Constantes\n",
    "\n",
    "LM_STUDIO_API = \"http://172.23.240.1:1234/v1/chat/completions\"\n",
    "HEADERS = {\"Content-Type\": \"application/json\"}\n",
    "MODEL = \"openai/gpt-oss-20b\""
   ]
  },
  {
   "cell_type": "code",
   "execution_count": null,
   "id": "dac0a679-599c-441f-9bf2-ddc73d35b940",
   "metadata": {},
   "outputs": [],
   "source": [
    "# Crea una lista de mensajes utilizando el mismo formato que usamos para OpenAI\n",
    "\n",
    "messages = [\n",
    "    {\"role\": \"user\", \"content\": \"Describe algunas de las aplicaciones comerciales de la IA generativa.\"}\n",
    "]\n",
    "\n",
    "payload = {\n",
    "        \"model\": MODEL,\n",
    "        \"messages\": messages,\n",
    "        \"stream\": False\n",
    "    }\n",
    "\n",
    "response = requests.post(LM_STUDIO_API, json=payload, headers=HEADERS)\n",
    "print(response.json()['choices'][0]['message']['content'])"
   ]
  },
  {
   "cell_type": "code",
   "execution_count": 3,
   "id": "42b9f644-522d-4e05-a691-56e7658c0ea9",
   "metadata": {},
   "outputs": [
    {
     "name": "stdout",
     "output_type": "stream",
     "text": [
      "## Aplicaciones comerciales de la IA generativa\n",
      "\n",
      "La IA generativa se está integrando en múltiples sectores para optimizar procesos, mejorar la experiencia del cliente y crear valor añadido. En **marketing digital**, genera contenidos personalizados (escritura de anuncios, descripciones de productos o guiones de video) que aumentan el engagement y reducen costos de producción. En **desarrollo de software**, escribe fragmentos de código, documenta APIs y prueba automáticamente, acelerando ciclos de entrega. La **industria creativa** aprovecha la generación de imágenes, música y textos narrativos para prototipar arte o producir material audiovisual a escala. En **atención al cliente**, los chatbots generativos manejan consultas complejas con respuestas más naturales y contextuales, mientras que en **finanzas** crean informes analíticos y modelos predictivos que ayudan a la toma de decisiones. Finalmente, en **e-commerce** se usan para recomendar productos, generar descripciones únicas y optimizar precios dinámicamente, todo ello contribuyendo a un aumento medible en conversiones y satisfacción del usuario.\n",
      "\n",
      "---\n",
      "TEXTO COMPLETO:\n",
      " ## Aplicaciones comerciales de la IA generativa\n",
      "\n",
      "La IA generativa se está integrando en múltiples sectores para optimizar procesos, mejorar la experiencia del cliente y crear valor añadido. En **marketing digital**, genera contenidos personalizados (escritura de anuncios, descripciones de productos o guiones de video) que aumentan el engagement y reducen costos de producción. En **desarrollo de software**, escribe fragmentos de código, documenta APIs y prueba automáticamente, acelerando ciclos de entrega. La **industria creativa** aprovecha la generación de imágenes, música y textos narrativos para prototipar arte o producir material audiovisual a escala. En **atención al cliente**, los chatbots generativos manejan consultas complejas con respuestas más naturales y contextuales, mientras que en **finanzas** crean informes analíticos y modelos predictivos que ayudan a la toma de decisiones. Finalmente, en **e-commerce** se usan para recomendar productos, generar descripciones únicas y optimizar precios dinámicamente, todo ello contribuyendo a un aumento medible en conversiones y satisfacción del usuario.\n"
     ]
    }
   ],
   "source": [
    "# Crea una lista de mensajes utilizando el mismo formato que usamos para OpenAI\n",
    "\n",
    "messages = [\n",
    "    {\"role\": \"user\", \"content\": \"Describe algunas de las aplicaciones comerciales de la IA generativa. en un parrafo corto y formato markdown\"}\n",
    "]\n",
    "\n",
    "payload = {\n",
    "        \"model\": MODEL,\n",
    "        \"messages\": messages,\n",
    "        \"stream\": True\n",
    "    }\n",
    "\n",
    "acc = []  # por si quieres conservar el texto completo\n",
    "\n",
    "with requests.post(LM_STUDIO_API, json=payload, headers=HEADERS, stream=True) as r:\n",
    "    r.raise_for_status()\n",
    "    for line in r.iter_lines():\n",
    "        if not line:  # Saltar líneas vacías\n",
    "            continue\n",
    "        if line.startswith(b\"data: \"):\n",
    "            line = line[len(b\"data: \"):]  # Quitar el prefijo\n",
    "        if line == b\"[DONE]\":\n",
    "            break\n",
    "\n",
    "        # Convertir de bytes a str y luego a dict\n",
    "        data = json.loads(line.decode(\"utf-8\"))\n",
    "\n",
    "        if data.get(\"choices\"):\n",
    "            delta = data[\"choices\"][0].get(\"delta\", {})\n",
    "            if \"content\" in delta:\n",
    "                print(delta[\"content\"], end=\"\", flush=True)\n",
    "                acc.append(delta[\"content\"])\n",
    "\n",
    "print()\n",
    "full_text = \"\".join(acc)\n",
    "print(\"\\n---\\nTEXTO COMPLETO:\\n\", full_text)\n",
    "\n",
    "\n"
   ]
  },
  {
   "cell_type": "code",
   "execution_count": null,
   "id": "274cacc0-8481-423f-8d75-00246f947707",
   "metadata": {},
   "outputs": [],
   "source": []
  }
 ],
 "metadata": {
  "kernelspec": {
   "display_name": "Python 3 (ipykernel)",
   "language": "python",
   "name": "python3"
  },
  "language_info": {
   "codemirror_mode": {
    "name": "ipython",
    "version": 3
   },
   "file_extension": ".py",
   "mimetype": "text/x-python",
   "name": "python",
   "nbconvert_exporter": "python",
   "pygments_lexer": "ipython3",
   "version": "3.11.13"
  }
 },
 "nbformat": 4,
 "nbformat_minor": 5
}
