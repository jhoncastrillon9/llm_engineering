{
 "cells": [
  {
   "cell_type": "markdown",
   "id": "65e78a2f-6722-4f07-8a91-ab68263137ed",
   "metadata": {},
   "source": [
    "# TAREA DE EJERCICIO\n",
    "\n",
    "Actualiza el proyecto del día 1 para resumir una página web y utilizar un modelo de código abierto que se ejecute localmente a través de LM STUDIO en lugar de OpenAI\n",
    "\n",
    "Podrás utilizar esta técnica para todos los proyectos posteriores si prefiere no utilizar API de pago (closed source).\n",
    "\n",
    "**Beneficios:**\n",
    "1. Sin cargos por API: código abierto\n",
    "2. Los datos no salen de su ordenador\n",
    "\n",
    "**Desventajas:**\n",
    "1. Tiene mucha menos potencia (parámetros) que el modelo Frontier\n",
    "\n",
    "## Resumen de la instalación de LLM STUDIO\n",
    "\n",
    "¡Simplemente visita [lmstudio.ai](https://lmstudio.ai) e instálalo!\n",
    "\n",
    "Una vez que hayas terminado, el servidor LLM STUDIO ya debería estar ejecutándose localmente.\n",
    "Si entras en:\n",
    "[http://172.30.240.1:1234/v1/models](http://172.30.240.1:1234/v1/models)\n",
    "\n",
    "Debería ver un json con los modelos que estan disponibles \n",
    "\n",
    "De lo contrario, abre LLM STUDIO, Developer, running server.\n",
    "Luego, intenta entrar em [http://172.30.240.1:1234/v1/models](http://172.30.240.1:1234/v1/models) nuevamente."
   ]
  },
  {
   "cell_type": "raw",
   "id": "fba98a11-56c3-44ff-8ba9-de90cca39a13",
   "metadata": {},
   "source": [
    "# imports\n",
    "\n",
    "import requests\n",
    "import time\n",
    "from bs4 import BeautifulSoup\n",
    "from IPython.display import Markdown, display\n"
   ]
  },
  {
   "cell_type": "code",
   "execution_count": 2,
   "id": "29ddd15d-a3c5-4f4e-a678-873f56162724",
   "metadata": {},
   "outputs": [],
   "source": [
    "# Constantes\n",
    "\n",
    "LMSTUDIO_API = \"http://172.30.240.1:1234/v1/chat/completions\"\n",
    "HEADERS = {\"Content-Type\": \"application/json\"}\n",
    "MODEL = \"openai/gpt-oss-20b\""
   ]
  },
  {
   "cell_type": "code",
   "execution_count": 3,
   "id": "dac0a679-599c-441f-9bf2-ddc73d35b940",
   "metadata": {},
   "outputs": [],
   "source": [
    "# Crea una lista de mensajes utilizando el mismo formato que usamos para OpenAI\n",
    "\n",
    "messages = [\n",
    "    {\"role\": \"user\", \"content\": \"Describe algunas de las aplicaciones comerciales de la IA generativa.\"}\n",
    "]"
   ]
  },
  {
   "cell_type": "code",
   "execution_count": 4,
   "id": "7bb9c624-14f0-4945-a719-8ddb64f66f47",
   "metadata": {},
   "outputs": [],
   "source": [
    "payload = {\n",
    "        \"model\": MODEL,\n",
    "        \"messages\": messages,\n",
    "        \"stream\": False\n",
    "    }"
   ]
  },
  {
   "cell_type": "code",
   "execution_count": 5,
   "id": "42b9f644-522d-4e05-a691-56e7658c0ea9",
   "metadata": {},
   "outputs": [
    {
     "name": "stdout",
     "output_type": "stream",
     "text": [
      "### Aplicaciones comerciales de la IA generativa\n",
      "\n",
      "| Área | Qué hace la IA generativa | Ejemplos concretos | Beneficios clave |\n",
      "|------|--------------------------|--------------------|------------------|\n",
      "| **Marketing y publicidad** | Genera copy, titulares, correos electrónicos y contenido visual (imágenes, videos) adaptado a cada segmento de audiencia. | - Herramientas como *Copy.ai*, *Jasper* o *Writesonic* que crean anuncios para Facebook/Google.<br>- Plataformas de generación de imágenes (Midjourney, DALL·E 3, Stable Diffusion) usadas por agencias para crear mock‑ups y conceptos rápidos. | Reducción de tiempo creativo, mayor personalización a escala, pruebas A/B más rápidas. |\n",
      "| **Diseño gráfico y creativo** | Crea logos, paletas de colores, maquetas de sitios web y diseños UI/UX en segundos. | - *Canva* incorpora IA generativa para proponer diseños basados en descripciones.<br>- Herramientas como *Figma* con plugins de generación automática de prototipos. | Acelera el proceso de ideación, democratiza el diseño (no se necesita diseñador experto). |\n",
      "| **Desarrollo de software** | Genera código fuente a partir de especificaciones en lenguaje natural o refina/optimiza fragmentos existentes. | - *GitHub Copilot*, *Tabnine*.<br>- Plataformas internas que auto‑generan microservicios o pruebas unitarias. | Incrementa la productividad del desarrollador, reduce bugs y tiempo de entrega. |\n",
      "| **Atención al cliente** | Chatbots conversacionales avanzados capaces de manejar consultas complejas y redactar respuestas personalizadas. | - *Zendesk*, *Intercom* con IA generativa para crear tickets y respuestas automáticas.<br>- Asistentes de voz en banca (ej. banca digital de BBVA). | Mejora la satisfacción del cliente, reduce costos operativos y escala soporte sin incrementar staff. |\n",
      "| **Finanzas y seguros** | Genera informes financieros, análisis predictivo y simulaciones de escenarios económicos. | - *Kensho* que produce análisis de mercado en tiempo real.<br>- Sistemas internos de compañías de seguros que generan pólizas personalizadas a partir de datos de riesgo. | Toma de decisiones más informada, cumplimiento regulatorio automatizado, mayor precisión en precios. |\n",
      "| **Ventas y CRM** | Automatiza la generación de propuestas comerciales, scripts de venta y seguimiento de leads. | - *HubSpot* con IA que escribe propuestas basadas en historial del cliente.<br>- Herramientas que generan correos de seguimiento personalizados a cada etapa del funnel. | Incrementa tasa de cierre, reduce tiempo de respuesta al prospecto. |\n",
      "| **Educación corporativa** | Crea contenido didáctico personalizado (manuales, módulos de e‑learning) y simulaciones interactivas. | - Plataformas como *Coursera* o *Udemy* que generan quizzes adaptativos.<br>- Empresas que usan IA para crear tutoriales técnicos en tiempo real. | Mejora el aprendizaje a medida, reduce costos de producción de material didáctico. |\n",
      "| **Medios y entretenimiento** | Genera guiones, diálogos, música, efectos visuales o incluso videojuegos completos. | - *ScriptAI* que escribe borradores de películas.<br>- Herramientas como *OpenAI’s MuseNet* para componer música a pedido. | Reduce tiempo de pre‑producción, permite experimentación creativa sin grandes equipos. |\n",
      "| **Logística y cadena de suministro** | Optimiza rutas, pronostica demanda y genera planes de inventario en función de datos históricos. | - *IBM Watson Supply Chain* que simula escenarios de demanda.<br>- Empresas que usan IA generativa para generar contratos de logística personalizados. | Ahorra costos operativos, mejora la disponibilidad de stock, reduce desperdicios. |\n",
      "| **Industria farmacéutica** | Diseña moléculas y compuestos potenciales, genera protocolos experimentales y redacta artículos científicos. | - *Atomwise*, *Exscientia* que generan candidatos de fármacos.<br>- Herramientas internas que redactan manuscritos para publicaciones. | Acorta ciclos de descubrimiento, reduce coste de I+D, acelera la aprobación regulatoria. |\n",
      "| **Legal y cumplimiento** | Automatiza la redacción de contratos, acuerdos de confidencialidad y análisis de riesgo legal. | - *LawGeex* compara contratos con plantillas legales.<br>- Sistemas que generan respuestas a consultas regulatorias en tiempo real. | Minimiza errores humanos, acelera procesos legales y reduce costes de consultoría. |\n",
      "| **Recursos Humanos** | Crea descripciones de puestos, resume CVs, genera preguntas de entrevista personalizadas. | - *HireVue* con IA para pre‑evaluar candidatos.<br>- Plataformas que generan planes de desarrollo individual. | Mejora la calidad del talento contratado y reduce sesgos en selección. |\n",
      "| **Arquitectura e inmobiliaria** | Genera planos arquitectónicos, renders 3D y simulaciones de iluminación a partir de descripciones textuales. | - *Spacemaker AI* que optimiza diseños urbanos.<br>- Herramientas que crean modelos 3D de interiores para clientes. | Reduce iteraciones de diseño, facilita la visualización del proyecto por parte del cliente. |\n",
      "| **Sostenibilidad** | Genera informes de impacto ambiental y propone estrategias de reducción de huella de carbono. | - *Microsoft Sustainability Calculator* que modela escenarios de emisiones.<br>- Plataformas que generan planes de economía circular a partir de datos operativos. | Ayuda a cumplir metas ESG, identifica oportunidades de ahorro energético. |\n",
      "\n",
      "---\n",
      "\n",
      "#### ¿Por qué la IA generativa está revolucionando el comercio?\n",
      "\n",
      "1. **Escala creativa** – Lo que antes requería horas de trabajo manual se puede generar en segundos o minutos.\n",
      "2. **Personalización masiva** – El contenido (texto, imagen, audio) se adapta a cada usuario sin un incremento lineal de costos.\n",
      "3. **Reducción de costes operativos** – Menos mano‑obra humana para tareas repetitivas y más eficiencia en procesos críticos.\n",
      "4. **Innovación continua** – Las máquinas aprenden de miles de ejemplos, lo que permite explorar nuevas ideas rápidamente.\n",
      "\n",
      "En resumen, la IA generativa ya forma parte del día a día de muchas industrias: desde la creación de contenido hasta la optimización de cadenas logísticas, pasando por el diseño y la toma de decisiones estratégicas. Su adopción sigue creciendo conforme los modelos mejoran y las barreras tecnológicas se reducen.\n",
      "El bloque tardó 138.7215 segundos\n"
     ]
    }
   ],
   "source": [
    "start_time = time.time()  # Guarda el tiempo de inicio\n",
    "response = requests.post(LMSTUDIO_API, json=payload, headers=HEADERS)\n",
    "print(response.json()['choices'][0]['message']['content'])\n",
    "\n",
    "end_time = time.time()  # Tiempo al finalizar\n",
    "elapsed = end_time - start_time  # Tiempo transcurrido en segundos\n",
    "print(f\"El bloque tardó {elapsed:.4f} segundos\")"
   ]
  },
  {
   "cell_type": "markdown",
   "id": "6a021f13-d6a1-4b96-8e18-4eae49d876fe",
   "metadata": {},
   "source": [
    "# Presentación del paquete OLLAMA\n",
    "\n",
    "Ahora haremos lo mismo, pero utilizando el elegante paquete de Python OLLAMA en lugar de una llamada HTTP directa.\n",
    "\n",
    "En esencia, se realiza la misma llamada que se indicó anteriormente al servidor ollama que se ejecuta en localhost:11434"
   ]
  },
  {
   "cell_type": "code",
   "execution_count": null,
   "id": "7745b9c4-57dc-4867-9180-61fa5db55eb8",
   "metadata": {},
   "outputs": [],
   "source": [
    "import ollama\n",
    "\n",
    "response = ollama.chat(model=MODEL, messages=messages)\n",
    "print(response['message']['content'])"
   ]
  },
  {
   "cell_type": "code",
   "execution_count": null,
   "id": "9a611b05-b5b0-4c83-b82d-b3a39ffb917d",
   "metadata": {},
   "outputs": [],
   "source": []
  },
  {
   "cell_type": "markdown",
   "id": "1622d9bb-5c68-4d4e-9ca4-b492c751f898",
   "metadata": {},
   "source": [
    "# AHORA el ejercicio para ti\n",
    "\n",
    "Toma el código del día 1 e incorpóralo aquí para crear un resumidor de sitios web que use Llama 3.2 ejecutándose localmente en lugar de OpenAI"
   ]
  },
  {
   "cell_type": "code",
   "execution_count": null,
   "id": "4a3d6881-35af-469e-a8ff-a8b62b721d95",
   "metadata": {},
   "outputs": [],
   "source": []
  }
 ],
 "metadata": {
  "kernelspec": {
   "display_name": "Python 3 (ipykernel)",
   "language": "python",
   "name": "python3"
  },
  "language_info": {
   "codemirror_mode": {
    "name": "ipython",
    "version": 3
   },
   "file_extension": ".py",
   "mimetype": "text/x-python",
   "name": "python",
   "nbconvert_exporter": "python",
   "pygments_lexer": "ipython3",
   "version": "3.11.13"
  }
 },
 "nbformat": 4,
 "nbformat_minor": 5
}
