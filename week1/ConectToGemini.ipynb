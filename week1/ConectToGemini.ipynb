{
 "cells": [
  {
   "cell_type": "code",
   "execution_count": 21,
   "id": "4b148252-7da1-4b8a-b2fd-4eed5d4ca47e",
   "metadata": {},
   "outputs": [],
   "source": [
    "#conectarnos a Google\n",
    "# To run this code you need to install the following dependencies:\n",
    "# pip install google-genai\n",
    "\n",
    "import base64\n",
    "import os\n",
    "from google import genai\n",
    "from google.genai import types\n",
    "from dotenv import load_dotenv\n"
   ]
  },
  {
   "cell_type": "code",
   "execution_count": 27,
   "id": "847d6f4f-7426-4f48-a2df-78904d54fa5f",
   "metadata": {},
   "outputs": [],
   "source": [
    "\n",
    "\n",
    "\n",
    "def generate():\n",
    "    load_dotenv()\n",
    "    client = genai.Client(        \n",
    "        api_key = os.getenv('GOOGLE_API_KEY')\n",
    "    )\n",
    "\n",
    "    model = \"gemini-2.5-pro\"\n",
    "    contents = [\n",
    "        types.Content(\n",
    "            role=\"user\",\n",
    "            parts=[\n",
    "                types.Part.from_text(text=\"\"\"Dime 3 Lenguajes de programacion, reposnde en corto\"\"\"),\n",
    "            ],\n",
    "        ),\n",
    "    ]\n",
    "    tools = [\n",
    "        types.Tool(googleSearch=types.GoogleSearch(\n",
    "        )),\n",
    "    ]\n",
    "    generate_content_config = types.GenerateContentConfig(\n",
    "        thinking_config = types.ThinkingConfig(\n",
    "            thinking_budget=-1,\n",
    "        ),\n",
    "        tools=tools,\n",
    "    )\n",
    "\n",
    "    for chunk in client.models.generate_content_stream(\n",
    "        model=model,\n",
    "        contents=contents,\n",
    "        config=generate_content_config,\n",
    "    ):\n",
    "        print(chunk.text, end=\"\")\n",
    "\n",
    "    "
   ]
  },
  {
   "cell_type": "code",
   "execution_count": 28,
   "id": "eee90a04-b73b-4f62-82ee-b576a3ceac00",
   "metadata": {},
   "outputs": [
    {
     "name": "stdout",
     "output_type": "stream",
     "text": [
      "Aquí tienes 3 lenguajes de programación populares:\n",
      "\n",
      "*   **Python:** Un lenguaje versátil conocido por su simplicidad y legibilidad, muy utilizado en desarrollo web, ciencia de datos e inteligencia artificial.\n",
      "*   **Java:** Un lenguaje robusto y orientado a objetos, popular por su portabilidad entre diferentes plataformas.\n",
      "*   **JavaScript:** Esencial para el desarrollo web, se utiliza para crear contenido dinámico e interactivo en las páginas web."
     ]
    }
   ],
   "source": [
    "    generate()"
   ]
  }
 ],
 "metadata": {
  "kernelspec": {
   "display_name": "Python 3 (ipykernel)",
   "language": "python",
   "name": "python3"
  },
  "language_info": {
   "codemirror_mode": {
    "name": "ipython",
    "version": 3
   },
   "file_extension": ".py",
   "mimetype": "text/x-python",
   "name": "python",
   "nbconvert_exporter": "python",
   "pygments_lexer": "ipython3",
   "version": "3.11.13"
  }
 },
 "nbformat": 4,
 "nbformat_minor": 5
}
